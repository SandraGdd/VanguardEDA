{
 "cells": [
  {
   "cell_type": "code",
   "execution_count": 1,
   "id": "56d95cf8-ef13-4fa2-8e47-8dbf15ab5568",
   "metadata": {},
   "outputs": [],
   "source": [
    "import pandas as pd\n",
    "import matplotlib.pyplot as plt\n",
    "import seaborn as sns\n",
    "import numpy as np\n",
    "from functionst import * \n",
    "%matplotlib inline"
   ]
  },
  {
   "cell_type": "code",
   "execution_count": null,
   "id": "3c6b1b5a-bfaf-4a2e-ac14-235a16f48b0f",
   "metadata": {},
   "outputs": [],
   "source": [
    "test"
   ]
  },
  {
   "cell_type": "code",
   "execution_count": 2,
   "id": "9538a8c1-d1c9-4b4f-af8f-e34b0a1acdff",
   "metadata": {},
   "outputs": [],
   "source": [
    "# Dataset1: Client Profiles: Demographics like age, gender, and account details of our clients."
   ]
  },
  {
   "cell_type": "code",
   "execution_count": 3,
   "id": "e855ea0f-25f0-402b-9696-bacabf5c69c9",
   "metadata": {},
   "outputs": [
    {
     "data": {
      "text/html": [
       "<div>\n",
       "<style scoped>\n",
       "    .dataframe tbody tr th:only-of-type {\n",
       "        vertical-align: middle;\n",
       "    }\n",
       "\n",
       "    .dataframe tbody tr th {\n",
       "        vertical-align: top;\n",
       "    }\n",
       "\n",
       "    .dataframe thead th {\n",
       "        text-align: right;\n",
       "    }\n",
       "</style>\n",
       "<table border=\"1\" class=\"dataframe\">\n",
       "  <thead>\n",
       "    <tr style=\"text-align: right;\">\n",
       "      <th></th>\n",
       "      <th>client_id</th>\n",
       "      <th>clnt_tenure_yr</th>\n",
       "      <th>clnt_tenure_mnth</th>\n",
       "      <th>clnt_age</th>\n",
       "      <th>gendr</th>\n",
       "      <th>num_accts</th>\n",
       "      <th>bal</th>\n",
       "      <th>calls_6_mnth</th>\n",
       "      <th>logons_6_mnth</th>\n",
       "    </tr>\n",
       "  </thead>\n",
       "  <tbody>\n",
       "    <tr>\n",
       "      <th>0</th>\n",
       "      <td>836976</td>\n",
       "      <td>6.0</td>\n",
       "      <td>73.0</td>\n",
       "      <td>60.5</td>\n",
       "      <td>U</td>\n",
       "      <td>2.0</td>\n",
       "      <td>45105.30</td>\n",
       "      <td>6.0</td>\n",
       "      <td>9.0</td>\n",
       "    </tr>\n",
       "    <tr>\n",
       "      <th>1</th>\n",
       "      <td>2304905</td>\n",
       "      <td>7.0</td>\n",
       "      <td>94.0</td>\n",
       "      <td>58.0</td>\n",
       "      <td>U</td>\n",
       "      <td>2.0</td>\n",
       "      <td>110860.30</td>\n",
       "      <td>6.0</td>\n",
       "      <td>9.0</td>\n",
       "    </tr>\n",
       "    <tr>\n",
       "      <th>2</th>\n",
       "      <td>1439522</td>\n",
       "      <td>5.0</td>\n",
       "      <td>64.0</td>\n",
       "      <td>32.0</td>\n",
       "      <td>U</td>\n",
       "      <td>2.0</td>\n",
       "      <td>52467.79</td>\n",
       "      <td>6.0</td>\n",
       "      <td>9.0</td>\n",
       "    </tr>\n",
       "    <tr>\n",
       "      <th>3</th>\n",
       "      <td>1562045</td>\n",
       "      <td>16.0</td>\n",
       "      <td>198.0</td>\n",
       "      <td>49.0</td>\n",
       "      <td>M</td>\n",
       "      <td>2.0</td>\n",
       "      <td>67454.65</td>\n",
       "      <td>3.0</td>\n",
       "      <td>6.0</td>\n",
       "    </tr>\n",
       "    <tr>\n",
       "      <th>4</th>\n",
       "      <td>5126305</td>\n",
       "      <td>12.0</td>\n",
       "      <td>145.0</td>\n",
       "      <td>33.0</td>\n",
       "      <td>F</td>\n",
       "      <td>2.0</td>\n",
       "      <td>103671.75</td>\n",
       "      <td>0.0</td>\n",
       "      <td>3.0</td>\n",
       "    </tr>\n",
       "  </tbody>\n",
       "</table>\n",
       "</div>"
      ],
      "text/plain": [
       "   client_id  clnt_tenure_yr  clnt_tenure_mnth  clnt_age gendr  num_accts  \\\n",
       "0     836976             6.0              73.0      60.5     U        2.0   \n",
       "1    2304905             7.0              94.0      58.0     U        2.0   \n",
       "2    1439522             5.0              64.0      32.0     U        2.0   \n",
       "3    1562045            16.0             198.0      49.0     M        2.0   \n",
       "4    5126305            12.0             145.0      33.0     F        2.0   \n",
       "\n",
       "         bal  calls_6_mnth  logons_6_mnth  \n",
       "0   45105.30           6.0            9.0  \n",
       "1  110860.30           6.0            9.0  \n",
       "2   52467.79           6.0            9.0  \n",
       "3   67454.65           3.0            6.0  \n",
       "4  103671.75           0.0            3.0  "
      ]
     },
     "execution_count": 3,
     "metadata": {},
     "output_type": "execute_result"
    }
   ],
   "source": [
    "file_path='data/df_final_demo.txt'\n",
    "\n",
    "df_clients = pd.read_csv(file_path, delimiter=',')\n",
    "df_clients.head()"
   ]
  },
  {
   "cell_type": "code",
   "execution_count": 4,
   "id": "42f31248-d27c-4c33-8238-cfd5ddffe0e3",
   "metadata": {},
   "outputs": [],
   "source": [
    "# Dataset2: Digital Footprints pt1 & pt2: A detailed trace of client interactions online, divided into two parts: pt_1 and pt_2. It’s recommended to merge these two files prior to a comprehensive data analysis."
   ]
  },
  {
   "cell_type": "code",
   "execution_count": 5,
   "id": "6e21a8be-b980-4c6e-924b-42475a4c5258",
   "metadata": {},
   "outputs": [],
   "source": [
    "file_path='data/df_final_web_data_pt_1.txt'\n",
    "df2 = pd.read_csv(file_path, delimiter=',')"
   ]
  },
  {
   "cell_type": "code",
   "execution_count": 6,
   "id": "2995bd12-22d6-4a12-9318-1e7ae486bb22",
   "metadata": {},
   "outputs": [],
   "source": [
    "file_path = \"Data/df_final_web_data_pt_1.txt\"\n",
    "df3 = pd.read_csv(file_path, delimiter=',')"
   ]
  },
  {
   "cell_type": "code",
   "execution_count": 7,
   "id": "01996134-3719-4584-b887-c20191d664fe",
   "metadata": {},
   "outputs": [],
   "source": [
    "df_concat = pd.concat([df2, df3])\n",
    "df_concat[\"source\"] = \"final_web_data\""
   ]
  },
  {
   "cell_type": "markdown",
   "id": "4cac4b0e",
   "metadata": {},
   "source": [
    "Cleaning df_Clients"
   ]
  },
  {
   "cell_type": "markdown",
   "id": "9a93571b",
   "metadata": {},
   "source": [
    "Check for Duplicates"
   ]
  },
  {
   "cell_type": "code",
   "execution_count": 8,
   "id": "32aec969",
   "metadata": {},
   "outputs": [
    {
     "data": {
      "text/plain": [
       "0"
      ]
     },
     "execution_count": 8,
     "metadata": {},
     "output_type": "execute_result"
    }
   ],
   "source": [
    "df_clients.duplicated().sum() # Check"
   ]
  },
  {
   "cell_type": "code",
   "execution_count": 9,
   "id": "9a6ce5cd",
   "metadata": {},
   "outputs": [],
   "source": [
    "# Rename columns\n",
    "df_clients.rename(columns={\"clnt_tenure_yr\": \"client_tenure_yr\",\n",
    "                           \"clint_tenure_mnth\":\"client_tenure_mnth\",\n",
    "                           \"clnt_age\":\"client_age\",\n",
    "                           \"gendr\":\"gender\",\n",
    "                           \"bal\":\"balance\"\n",
    "                           }, inplace=True)"
   ]
  },
  {
   "cell_type": "code",
   "execution_count": 10,
   "id": "96f45df3",
   "metadata": {},
   "outputs": [
    {
     "name": "stderr",
     "output_type": "stream",
     "text": [
      "/var/folders/z2/8yvwb6_51rd1bxl1j1s0xpm40000gp/T/ipykernel_4984/3195465480.py:6: FutureWarning: A value is trying to be set on a copy of a DataFrame or Series through chained assignment using an inplace method.\n",
      "The behavior will change in pandas 3.0. This inplace method will never work because the intermediate object on which we are setting values always behaves as a copy.\n",
      "\n",
      "For example, when doing 'df[col].method(value, inplace=True)', try using 'df.method({col: value}, inplace=True)' or df[col] = df[col].method(value) instead, to perform the operation inplace on the original object.\n",
      "\n",
      "\n",
      "  df_clients[\"client_age\"].fillna(df_clients[\"client_age\"].mean(),inplace=True)\n"
     ]
    }
   ],
   "source": [
    "# Checking for NaN Rows\n",
    "nan_rows = df_clients[df_clients.isna().any(axis=1)]\n",
    "# Drop NaN Values with more many NaNs\n",
    "df_clients.dropna(thresh=4,inplace=True)\n",
    "# Fill NaN in client age\n",
    "df_clients[\"client_age\"].fillna(df_clients[\"client_age\"].mean(),inplace=True)"
   ]
  },
  {
   "cell_type": "code",
   "execution_count": 11,
   "id": "e68ca145",
   "metadata": {},
   "outputs": [],
   "source": [
    "# Drop NaN Values with more many NaNs\n",
    "df_clients.dropna(thresh=4,inplace=True)"
   ]
  },
  {
   "cell_type": "code",
   "execution_count": 12,
   "id": "7511a231",
   "metadata": {},
   "outputs": [
    {
     "name": "stderr",
     "output_type": "stream",
     "text": [
      "/var/folders/z2/8yvwb6_51rd1bxl1j1s0xpm40000gp/T/ipykernel_4984/1302661028.py:2: FutureWarning: A value is trying to be set on a copy of a DataFrame or Series through chained assignment using an inplace method.\n",
      "The behavior will change in pandas 3.0. This inplace method will never work because the intermediate object on which we are setting values always behaves as a copy.\n",
      "\n",
      "For example, when doing 'df[col].method(value, inplace=True)', try using 'df.method({col: value}, inplace=True)' or df[col] = df[col].method(value) instead, to perform the operation inplace on the original object.\n",
      "\n",
      "\n",
      "  df_clients[\"client_age\"].fillna(df_clients[\"client_age\"].mean(),inplace=True)\n"
     ]
    }
   ],
   "source": [
    "# Fill NaN in client age\n",
    "df_clients[\"client_age\"].fillna(df_clients[\"client_age\"].mean(),inplace=True)"
   ]
  },
  {
   "cell_type": "code",
   "execution_count": 13,
   "id": "e6d24471",
   "metadata": {},
   "outputs": [
    {
     "data": {
      "text/plain": [
       "count    70595.000000\n",
       "mean        46.442240\n",
       "std         15.591162\n",
       "min         13.500000\n",
       "25%         32.500000\n",
       "50%         47.000000\n",
       "75%         59.000000\n",
       "max         96.000000\n",
       "Name: client_age, dtype: float64"
      ]
     },
     "execution_count": 13,
     "metadata": {},
     "output_type": "execute_result"
    }
   ],
   "source": [
    "df_clients[\"client_age\"].describe()"
   ]
  },
  {
   "cell_type": "code",
   "execution_count": 14,
   "id": "33b339b5",
   "metadata": {},
   "outputs": [],
   "source": [
    "# Defining age Group and Assigning to client Data\n",
    "\n",
    "df_clients[\"client_age_group\"] = df_clients[\"client_age\"].apply(age_group)"
   ]
  },
  {
   "cell_type": "code",
   "execution_count": 15,
   "id": "c198325b",
   "metadata": {},
   "outputs": [
    {
     "data": {
      "text/html": [
       "<div>\n",
       "<style scoped>\n",
       "    .dataframe tbody tr th:only-of-type {\n",
       "        vertical-align: middle;\n",
       "    }\n",
       "\n",
       "    .dataframe tbody tr th {\n",
       "        vertical-align: top;\n",
       "    }\n",
       "\n",
       "    .dataframe thead th {\n",
       "        text-align: right;\n",
       "    }\n",
       "</style>\n",
       "<table border=\"1\" class=\"dataframe\">\n",
       "  <thead>\n",
       "    <tr style=\"text-align: right;\">\n",
       "      <th></th>\n",
       "      <th>client_id</th>\n",
       "      <th>client_tenure_yr</th>\n",
       "      <th>clnt_tenure_mnth</th>\n",
       "      <th>client_age</th>\n",
       "      <th>gender</th>\n",
       "      <th>num_accts</th>\n",
       "      <th>balance</th>\n",
       "      <th>calls_6_mnth</th>\n",
       "      <th>logons_6_mnth</th>\n",
       "      <th>client_age_group</th>\n",
       "    </tr>\n",
       "  </thead>\n",
       "  <tbody>\n",
       "    <tr>\n",
       "      <th>0</th>\n",
       "      <td>836976</td>\n",
       "      <td>6.0</td>\n",
       "      <td>73.0</td>\n",
       "      <td>60.5</td>\n",
       "      <td>U</td>\n",
       "      <td>2.0</td>\n",
       "      <td>45105.30</td>\n",
       "      <td>6.0</td>\n",
       "      <td>9.0</td>\n",
       "      <td>adult</td>\n",
       "    </tr>\n",
       "    <tr>\n",
       "      <th>1</th>\n",
       "      <td>2304905</td>\n",
       "      <td>7.0</td>\n",
       "      <td>94.0</td>\n",
       "      <td>58.0</td>\n",
       "      <td>U</td>\n",
       "      <td>2.0</td>\n",
       "      <td>110860.30</td>\n",
       "      <td>6.0</td>\n",
       "      <td>9.0</td>\n",
       "      <td>adult</td>\n",
       "    </tr>\n",
       "    <tr>\n",
       "      <th>2</th>\n",
       "      <td>1439522</td>\n",
       "      <td>5.0</td>\n",
       "      <td>64.0</td>\n",
       "      <td>32.0</td>\n",
       "      <td>U</td>\n",
       "      <td>2.0</td>\n",
       "      <td>52467.79</td>\n",
       "      <td>6.0</td>\n",
       "      <td>9.0</td>\n",
       "      <td>adult</td>\n",
       "    </tr>\n",
       "    <tr>\n",
       "      <th>3</th>\n",
       "      <td>1562045</td>\n",
       "      <td>16.0</td>\n",
       "      <td>198.0</td>\n",
       "      <td>49.0</td>\n",
       "      <td>M</td>\n",
       "      <td>2.0</td>\n",
       "      <td>67454.65</td>\n",
       "      <td>3.0</td>\n",
       "      <td>6.0</td>\n",
       "      <td>adult</td>\n",
       "    </tr>\n",
       "    <tr>\n",
       "      <th>4</th>\n",
       "      <td>5126305</td>\n",
       "      <td>12.0</td>\n",
       "      <td>145.0</td>\n",
       "      <td>33.0</td>\n",
       "      <td>F</td>\n",
       "      <td>2.0</td>\n",
       "      <td>103671.75</td>\n",
       "      <td>0.0</td>\n",
       "      <td>3.0</td>\n",
       "      <td>adult</td>\n",
       "    </tr>\n",
       "  </tbody>\n",
       "</table>\n",
       "</div>"
      ],
      "text/plain": [
       "   client_id  client_tenure_yr  clnt_tenure_mnth  client_age gender  \\\n",
       "0     836976               6.0              73.0        60.5      U   \n",
       "1    2304905               7.0              94.0        58.0      U   \n",
       "2    1439522               5.0              64.0        32.0      U   \n",
       "3    1562045              16.0             198.0        49.0      M   \n",
       "4    5126305              12.0             145.0        33.0      F   \n",
       "\n",
       "   num_accts    balance  calls_6_mnth  logons_6_mnth client_age_group  \n",
       "0        2.0   45105.30           6.0            9.0            adult  \n",
       "1        2.0  110860.30           6.0            9.0            adult  \n",
       "2        2.0   52467.79           6.0            9.0            adult  \n",
       "3        2.0   67454.65           3.0            6.0            adult  \n",
       "4        2.0  103671.75           0.0            3.0            adult  "
      ]
     },
     "execution_count": 15,
     "metadata": {},
     "output_type": "execute_result"
    }
   ],
   "source": [
    "df_clients.head(5)"
   ]
  },
  {
   "cell_type": "markdown",
   "id": "6f74e5d4",
   "metadata": {},
   "source": [
    "Who are the clients"
   ]
  },
  {
   "cell_type": "code",
   "execution_count": 16,
   "id": "aa5852cd",
   "metadata": {},
   "outputs": [
    {
     "data": {
      "text/plain": [
       "client_age_group\n",
       "adult     327501.0\n",
       "senior     56789.0\n",
       "teen        8694.0\n",
       "Name: logons_6_mnth, dtype: float64"
      ]
     },
     "execution_count": 16,
     "metadata": {},
     "output_type": "execute_result"
    }
   ],
   "source": [
    "# Who are the clients?\n",
    "most_clients = df_clients.groupby(\"client_age_group\")[\"logons_6_mnth\"].sum().sort_values( ascending=False)\n",
    "most_clients"
   ]
  },
  {
   "cell_type": "code",
   "execution_count": 32,
   "id": "c05209a5",
   "metadata": {},
   "outputs": [
    {
     "data": {
      "text/plain": [
       "Text(0, 0.5, 'logins last 6 month')"
      ]
     },
     "execution_count": 32,
     "metadata": {},
     "output_type": "execute_result"
    },
    {
     "data": {
      "image/png": "[encoded data removed]",
      "text/plain": [
       "<Figure size 640x480 with 1 Axes>"
      ]
     },
     "metadata": {},
     "output_type": "display_data"
    }
   ],
   "source": [
    "# Checking \n",
    "sns.barplot(data= most_clients)\n",
    "plt.title(\"age groups by age\")\n",
    "plt.xlabel(\"age groups\")\n",
    "plt.ylabel(\"logins last 6 month\")"
   ]
  },
  {
   "cell_type": "markdown",
   "id": "552f444f",
   "metadata": {},
   "source": [
    "Clean df_concat"
   ]
  },
  {
   "cell_type": "markdown",
   "id": "f95525e9",
   "metadata": {},
   "source": [
    "Check for Duplicates"
   ]
  },
  {
   "cell_type": "code",
   "execution_count": 17,
   "id": "aa5746db",
   "metadata": {},
   "outputs": [
    {
     "data": {
      "text/plain": [
       "345236"
      ]
     },
     "execution_count": 17,
     "metadata": {},
     "output_type": "execute_result"
    }
   ],
   "source": [
    "df_concat.duplicated().sum()"
   ]
  },
  {
   "cell_type": "code",
   "execution_count": 18,
   "id": "3f9146a2",
   "metadata": {},
   "outputs": [
    {
     "name": "stdout",
     "output_type": "stream",
     "text": [
      "<class 'pandas.core.frame.DataFrame'>\n",
      "Index: 686282 entries, 0 to 343140\n",
      "Data columns (total 6 columns):\n",
      " #   Column        Non-Null Count   Dtype \n",
      "---  ------        --------------   ----- \n",
      " 0   client_id     686282 non-null  int64 \n",
      " 1   visitor_id    686282 non-null  object\n",
      " 2   visit_id      686282 non-null  object\n",
      " 3   process_step  686282 non-null  object\n",
      " 4   date_time     686282 non-null  object\n",
      " 5   source        686282 non-null  object\n",
      "dtypes: int64(1), object(5)\n",
      "memory usage: 36.7+ MB\n"
     ]
    }
   ],
   "source": [
    "df_concat.info()"
   ]
  },
  {
   "cell_type": "code",
   "execution_count": 47,
   "id": "dedd91e4",
   "metadata": {},
   "outputs": [
    {
     "data": {
      "text/plain": [
       "array(['step_3', 'step_2', 'step_1', 'start', 'confirm'], dtype=object)"
      ]
     },
     "execution_count": 47,
     "metadata": {},
     "output_type": "execute_result"
    }
   ],
   "source": [
    "df_concat[\"process_step\"].unique()"
   ]
  },
  {
   "cell_type": "code",
   "execution_count": 45,
   "id": "ae50c4a0",
   "metadata": {},
   "outputs": [
    {
     "data": {
      "text/html": [
       "<div>\n",
       "<style scoped>\n",
       "    .dataframe tbody tr th:only-of-type {\n",
       "        vertical-align: middle;\n",
       "    }\n",
       "\n",
       "    .dataframe tbody tr th {\n",
       "        vertical-align: top;\n",
       "    }\n",
       "\n",
       "    .dataframe thead th {\n",
       "        text-align: right;\n",
       "    }\n",
       "</style>\n",
       "<table border=\"1\" class=\"dataframe\">\n",
       "  <thead>\n",
       "    <tr style=\"text-align: right;\">\n",
       "      <th></th>\n",
       "      <th>client_id</th>\n",
       "      <th>visitor_id</th>\n",
       "      <th>visit_id</th>\n",
       "      <th>process_step</th>\n",
       "      <th>date_time</th>\n",
       "      <th>source</th>\n",
       "    </tr>\n",
       "  </thead>\n",
       "  <tbody>\n",
       "    <tr>\n",
       "      <th>0</th>\n",
       "      <td>9988021</td>\n",
       "      <td>580560515_7732621733</td>\n",
       "      <td>781255054_21935453173_531117</td>\n",
       "      <td>step_3</td>\n",
       "      <td>2017-04-17 15:27:07</td>\n",
       "      <td>final_web_data</td>\n",
       "    </tr>\n",
       "    <tr>\n",
       "      <th>1</th>\n",
       "      <td>9988021</td>\n",
       "      <td>580560515_7732621733</td>\n",
       "      <td>781255054_21935453173_531117</td>\n",
       "      <td>step_2</td>\n",
       "      <td>2017-04-17 15:26:51</td>\n",
       "      <td>final_web_data</td>\n",
       "    </tr>\n",
       "    <tr>\n",
       "      <th>2</th>\n",
       "      <td>9988021</td>\n",
       "      <td>580560515_7732621733</td>\n",
       "      <td>781255054_21935453173_531117</td>\n",
       "      <td>step_3</td>\n",
       "      <td>2017-04-17 15:19:22</td>\n",
       "      <td>final_web_data</td>\n",
       "    </tr>\n",
       "    <tr>\n",
       "      <th>3</th>\n",
       "      <td>9988021</td>\n",
       "      <td>580560515_7732621733</td>\n",
       "      <td>781255054_21935453173_531117</td>\n",
       "      <td>step_2</td>\n",
       "      <td>2017-04-17 15:19:13</td>\n",
       "      <td>final_web_data</td>\n",
       "    </tr>\n",
       "    <tr>\n",
       "      <th>4</th>\n",
       "      <td>9988021</td>\n",
       "      <td>580560515_7732621733</td>\n",
       "      <td>781255054_21935453173_531117</td>\n",
       "      <td>step_3</td>\n",
       "      <td>2017-04-17 15:18:04</td>\n",
       "      <td>final_web_data</td>\n",
       "    </tr>\n",
       "    <tr>\n",
       "      <th>5</th>\n",
       "      <td>9988021</td>\n",
       "      <td>580560515_7732621733</td>\n",
       "      <td>781255054_21935453173_531117</td>\n",
       "      <td>step_2</td>\n",
       "      <td>2017-04-17 15:17:15</td>\n",
       "      <td>final_web_data</td>\n",
       "    </tr>\n",
       "    <tr>\n",
       "      <th>6</th>\n",
       "      <td>9988021</td>\n",
       "      <td>580560515_7732621733</td>\n",
       "      <td>781255054_21935453173_531117</td>\n",
       "      <td>step_1</td>\n",
       "      <td>2017-04-17 15:17:01</td>\n",
       "      <td>final_web_data</td>\n",
       "    </tr>\n",
       "    <tr>\n",
       "      <th>7</th>\n",
       "      <td>9988021</td>\n",
       "      <td>580560515_7732621733</td>\n",
       "      <td>781255054_21935453173_531117</td>\n",
       "      <td>start</td>\n",
       "      <td>2017-04-17 15:16:22</td>\n",
       "      <td>final_web_data</td>\n",
       "    </tr>\n",
       "    <tr>\n",
       "      <th>129</th>\n",
       "      <td>9988021</td>\n",
       "      <td>580560515_7732621733</td>\n",
       "      <td>219729223_42518459208_211914</td>\n",
       "      <td>start</td>\n",
       "      <td>2017-04-12 18:54:43</td>\n",
       "      <td>final_web_data</td>\n",
       "    </tr>\n",
       "    <tr>\n",
       "      <th>130</th>\n",
       "      <td>9988021</td>\n",
       "      <td>580560515_7732621733</td>\n",
       "      <td>219729223_42518459208_211914</td>\n",
       "      <td>start</td>\n",
       "      <td>2017-04-12 18:38:42</td>\n",
       "      <td>final_web_data</td>\n",
       "    </tr>\n",
       "    <tr>\n",
       "      <th>131</th>\n",
       "      <td>9988021</td>\n",
       "      <td>580560515_7732621733</td>\n",
       "      <td>219729223_42518459208_211914</td>\n",
       "      <td>start</td>\n",
       "      <td>2017-04-12 18:22:40</td>\n",
       "      <td>final_web_data</td>\n",
       "    </tr>\n",
       "    <tr>\n",
       "      <th>132</th>\n",
       "      <td>9988021</td>\n",
       "      <td>580560515_7732621733</td>\n",
       "      <td>219729223_42518459208_211914</td>\n",
       "      <td>start</td>\n",
       "      <td>2017-04-12 18:06:39</td>\n",
       "      <td>final_web_data</td>\n",
       "    </tr>\n",
       "    <tr>\n",
       "      <th>133</th>\n",
       "      <td>9988021</td>\n",
       "      <td>580560515_7732621733</td>\n",
       "      <td>219729223_42518459208_211914</td>\n",
       "      <td>start</td>\n",
       "      <td>2017-04-12 17:50:38</td>\n",
       "      <td>final_web_data</td>\n",
       "    </tr>\n",
       "    <tr>\n",
       "      <th>161</th>\n",
       "      <td>9988021</td>\n",
       "      <td>580560515_7732621733</td>\n",
       "      <td>219729223_42518459208_211914</td>\n",
       "      <td>start</td>\n",
       "      <td>2017-04-12 17:34:37</td>\n",
       "      <td>final_web_data</td>\n",
       "    </tr>\n",
       "    <tr>\n",
       "      <th>162</th>\n",
       "      <td>9988021</td>\n",
       "      <td>580560515_7732621733</td>\n",
       "      <td>219729223_42518459208_211914</td>\n",
       "      <td>start</td>\n",
       "      <td>2017-04-12 16:57:27</td>\n",
       "      <td>final_web_data</td>\n",
       "    </tr>\n",
       "    <tr>\n",
       "      <th>0</th>\n",
       "      <td>9988021</td>\n",
       "      <td>580560515_7732621733</td>\n",
       "      <td>781255054_21935453173_531117</td>\n",
       "      <td>step_3</td>\n",
       "      <td>2017-04-17 15:27:07</td>\n",
       "      <td>final_web_data</td>\n",
       "    </tr>\n",
       "    <tr>\n",
       "      <th>1</th>\n",
       "      <td>9988021</td>\n",
       "      <td>580560515_7732621733</td>\n",
       "      <td>781255054_21935453173_531117</td>\n",
       "      <td>step_2</td>\n",
       "      <td>2017-04-17 15:26:51</td>\n",
       "      <td>final_web_data</td>\n",
       "    </tr>\n",
       "    <tr>\n",
       "      <th>2</th>\n",
       "      <td>9988021</td>\n",
       "      <td>580560515_7732621733</td>\n",
       "      <td>781255054_21935453173_531117</td>\n",
       "      <td>step_3</td>\n",
       "      <td>2017-04-17 15:19:22</td>\n",
       "      <td>final_web_data</td>\n",
       "    </tr>\n",
       "    <tr>\n",
       "      <th>3</th>\n",
       "      <td>9988021</td>\n",
       "      <td>580560515_7732621733</td>\n",
       "      <td>781255054_21935453173_531117</td>\n",
       "      <td>step_2</td>\n",
       "      <td>2017-04-17 15:19:13</td>\n",
       "      <td>final_web_data</td>\n",
       "    </tr>\n",
       "    <tr>\n",
       "      <th>4</th>\n",
       "      <td>9988021</td>\n",
       "      <td>580560515_7732621733</td>\n",
       "      <td>781255054_21935453173_531117</td>\n",
       "      <td>step_3</td>\n",
       "      <td>2017-04-17 15:18:04</td>\n",
       "      <td>final_web_data</td>\n",
       "    </tr>\n",
       "    <tr>\n",
       "      <th>5</th>\n",
       "      <td>9988021</td>\n",
       "      <td>580560515_7732621733</td>\n",
       "      <td>781255054_21935453173_531117</td>\n",
       "      <td>step_2</td>\n",
       "      <td>2017-04-17 15:17:15</td>\n",
       "      <td>final_web_data</td>\n",
       "    </tr>\n",
       "    <tr>\n",
       "      <th>6</th>\n",
       "      <td>9988021</td>\n",
       "      <td>580560515_7732621733</td>\n",
       "      <td>781255054_21935453173_531117</td>\n",
       "      <td>step_1</td>\n",
       "      <td>2017-04-17 15:17:01</td>\n",
       "      <td>final_web_data</td>\n",
       "    </tr>\n",
       "    <tr>\n",
       "      <th>7</th>\n",
       "      <td>9988021</td>\n",
       "      <td>580560515_7732621733</td>\n",
       "      <td>781255054_21935453173_531117</td>\n",
       "      <td>start</td>\n",
       "      <td>2017-04-17 15:16:22</td>\n",
       "      <td>final_web_data</td>\n",
       "    </tr>\n",
       "    <tr>\n",
       "      <th>129</th>\n",
       "      <td>9988021</td>\n",
       "      <td>580560515_7732621733</td>\n",
       "      <td>219729223_42518459208_211914</td>\n",
       "      <td>start</td>\n",
       "      <td>2017-04-12 18:54:43</td>\n",
       "      <td>final_web_data</td>\n",
       "    </tr>\n",
       "    <tr>\n",
       "      <th>130</th>\n",
       "      <td>9988021</td>\n",
       "      <td>580560515_7732621733</td>\n",
       "      <td>219729223_42518459208_211914</td>\n",
       "      <td>start</td>\n",
       "      <td>2017-04-12 18:38:42</td>\n",
       "      <td>final_web_data</td>\n",
       "    </tr>\n",
       "    <tr>\n",
       "      <th>131</th>\n",
       "      <td>9988021</td>\n",
       "      <td>580560515_7732621733</td>\n",
       "      <td>219729223_42518459208_211914</td>\n",
       "      <td>start</td>\n",
       "      <td>2017-04-12 18:22:40</td>\n",
       "      <td>final_web_data</td>\n",
       "    </tr>\n",
       "    <tr>\n",
       "      <th>132</th>\n",
       "      <td>9988021</td>\n",
       "      <td>580560515_7732621733</td>\n",
       "      <td>219729223_42518459208_211914</td>\n",
       "      <td>start</td>\n",
       "      <td>2017-04-12 18:06:39</td>\n",
       "      <td>final_web_data</td>\n",
       "    </tr>\n",
       "    <tr>\n",
       "      <th>133</th>\n",
       "      <td>9988021</td>\n",
       "      <td>580560515_7732621733</td>\n",
       "      <td>219729223_42518459208_211914</td>\n",
       "      <td>start</td>\n",
       "      <td>2017-04-12 17:50:38</td>\n",
       "      <td>final_web_data</td>\n",
       "    </tr>\n",
       "    <tr>\n",
       "      <th>161</th>\n",
       "      <td>9988021</td>\n",
       "      <td>580560515_7732621733</td>\n",
       "      <td>219729223_42518459208_211914</td>\n",
       "      <td>start</td>\n",
       "      <td>2017-04-12 17:34:37</td>\n",
       "      <td>final_web_data</td>\n",
       "    </tr>\n",
       "    <tr>\n",
       "      <th>162</th>\n",
       "      <td>9988021</td>\n",
       "      <td>580560515_7732621733</td>\n",
       "      <td>219729223_42518459208_211914</td>\n",
       "      <td>start</td>\n",
       "      <td>2017-04-12 16:57:27</td>\n",
       "      <td>final_web_data</td>\n",
       "    </tr>\n",
       "  </tbody>\n",
       "</table>\n",
       "</div>"
      ],
      "text/plain": [
       "     client_id            visitor_id                      visit_id  \\\n",
       "0      9988021  580560515_7732621733  781255054_21935453173_531117   \n",
       "1      9988021  580560515_7732621733  781255054_21935453173_531117   \n",
       "2      9988021  580560515_7732621733  781255054_21935453173_531117   \n",
       "3      9988021  580560515_7732621733  781255054_21935453173_531117   \n",
       "4      9988021  580560515_7732621733  781255054_21935453173_531117   \n",
       "5      9988021  580560515_7732621733  781255054_21935453173_531117   \n",
       "6      9988021  580560515_7732621733  781255054_21935453173_531117   \n",
       "7      9988021  580560515_7732621733  781255054_21935453173_531117   \n",
       "129    9988021  580560515_7732621733  219729223_42518459208_211914   \n",
       "130    9988021  580560515_7732621733  219729223_42518459208_211914   \n",
       "131    9988021  580560515_7732621733  219729223_42518459208_211914   \n",
       "132    9988021  580560515_7732621733  219729223_42518459208_211914   \n",
       "133    9988021  580560515_7732621733  219729223_42518459208_211914   \n",
       "161    9988021  580560515_7732621733  219729223_42518459208_211914   \n",
       "162    9988021  580560515_7732621733  219729223_42518459208_211914   \n",
       "0      9988021  580560515_7732621733  781255054_21935453173_531117   \n",
       "1      9988021  580560515_7732621733  781255054_21935453173_531117   \n",
       "2      9988021  580560515_7732621733  781255054_21935453173_531117   \n",
       "3      9988021  580560515_7732621733  781255054_21935453173_531117   \n",
       "4      9988021  580560515_7732621733  781255054_21935453173_531117   \n",
       "5      9988021  580560515_7732621733  781255054_21935453173_531117   \n",
       "6      9988021  580560515_7732621733  781255054_21935453173_531117   \n",
       "7      9988021  580560515_7732621733  781255054_21935453173_531117   \n",
       "129    9988021  580560515_7732621733  219729223_42518459208_211914   \n",
       "130    9988021  580560515_7732621733  219729223_42518459208_211914   \n",
       "131    9988021  580560515_7732621733  219729223_42518459208_211914   \n",
       "132    9988021  580560515_7732621733  219729223_42518459208_211914   \n",
       "133    9988021  580560515_7732621733  219729223_42518459208_211914   \n",
       "161    9988021  580560515_7732621733  219729223_42518459208_211914   \n",
       "162    9988021  580560515_7732621733  219729223_42518459208_211914   \n",
       "\n",
       "    process_step            date_time          source  \n",
       "0         step_3  2017-04-17 15:27:07  final_web_data  \n",
       "1         step_2  2017-04-17 15:26:51  final_web_data  \n",
       "2         step_3  2017-04-17 15:19:22  final_web_data  \n",
       "3         step_2  2017-04-17 15:19:13  final_web_data  \n",
       "4         step_3  2017-04-17 15:18:04  final_web_data  \n",
       "5         step_2  2017-04-17 15:17:15  final_web_data  \n",
       "6         step_1  2017-04-17 15:17:01  final_web_data  \n",
       "7          start  2017-04-17 15:16:22  final_web_data  \n",
       "129        start  2017-04-12 18:54:43  final_web_data  \n",
       "130        start  2017-04-12 18:38:42  final_web_data  \n",
       "131        start  2017-04-12 18:22:40  final_web_data  \n",
       "132        start  2017-04-12 18:06:39  final_web_data  \n",
       "133        start  2017-04-12 17:50:38  final_web_data  \n",
       "161        start  2017-04-12 17:34:37  final_web_data  \n",
       "162        start  2017-04-12 16:57:27  final_web_data  \n",
       "0         step_3  2017-04-17 15:27:07  final_web_data  \n",
       "1         step_2  2017-04-17 15:26:51  final_web_data  \n",
       "2         step_3  2017-04-17 15:19:22  final_web_data  \n",
       "3         step_2  2017-04-17 15:19:13  final_web_data  \n",
       "4         step_3  2017-04-17 15:18:04  final_web_data  \n",
       "5         step_2  2017-04-17 15:17:15  final_web_data  \n",
       "6         step_1  2017-04-17 15:17:01  final_web_data  \n",
       "7          start  2017-04-17 15:16:22  final_web_data  \n",
       "129        start  2017-04-12 18:54:43  final_web_data  \n",
       "130        start  2017-04-12 18:38:42  final_web_data  \n",
       "131        start  2017-04-12 18:22:40  final_web_data  \n",
       "132        start  2017-04-12 18:06:39  final_web_data  \n",
       "133        start  2017-04-12 17:50:38  final_web_data  \n",
       "161        start  2017-04-12 17:34:37  final_web_data  \n",
       "162        start  2017-04-12 16:57:27  final_web_data  "
      ]
     },
     "execution_count": 45,
     "metadata": {},
     "output_type": "execute_result"
    }
   ],
   "source": [
    "df_concat[df_concat[\"client_id\"]==9988021]"
   ]
  },
  {
   "cell_type": "code",
   "execution_count": 43,
   "id": "106cedcf",
   "metadata": {},
   "outputs": [
    {
     "data": {
      "text/html": [
       "<div>\n",
       "<style scoped>\n",
       "    .dataframe tbody tr th:only-of-type {\n",
       "        vertical-align: middle;\n",
       "    }\n",
       "\n",
       "    .dataframe tbody tr th {\n",
       "        vertical-align: top;\n",
       "    }\n",
       "\n",
       "    .dataframe thead th {\n",
       "        text-align: right;\n",
       "    }\n",
       "</style>\n",
       "<table border=\"1\" class=\"dataframe\">\n",
       "  <thead>\n",
       "    <tr style=\"text-align: right;\">\n",
       "      <th></th>\n",
       "      <th>process_step</th>\n",
       "      <th>date_time</th>\n",
       "    </tr>\n",
       "  </thead>\n",
       "  <tbody>\n",
       "    <tr>\n",
       "      <th>0</th>\n",
       "      <td>step_3</td>\n",
       "      <td>2017-04-17 15:27:07</td>\n",
       "    </tr>\n",
       "    <tr>\n",
       "      <th>2</th>\n",
       "      <td>step_3</td>\n",
       "      <td>2017-04-17 15:19:22</td>\n",
       "    </tr>\n",
       "    <tr>\n",
       "      <th>4</th>\n",
       "      <td>step_3</td>\n",
       "      <td>2017-04-17 15:18:04</td>\n",
       "    </tr>\n",
       "    <tr>\n",
       "      <th>9</th>\n",
       "      <td>step_3</td>\n",
       "      <td>2017-04-05 13:09:43</td>\n",
       "    </tr>\n",
       "    <tr>\n",
       "      <th>16</th>\n",
       "      <td>step_3</td>\n",
       "      <td>2017-04-05 12:26:08</td>\n",
       "    </tr>\n",
       "    <tr>\n",
       "      <th>...</th>\n",
       "      <td>...</td>\n",
       "      <td>...</td>\n",
       "    </tr>\n",
       "    <tr>\n",
       "      <th>343112</th>\n",
       "      <td>step_3</td>\n",
       "      <td>2017-04-20 12:46:09</td>\n",
       "    </tr>\n",
       "    <tr>\n",
       "      <th>343118</th>\n",
       "      <td>step_3</td>\n",
       "      <td>2017-04-12 16:56:21</td>\n",
       "    </tr>\n",
       "    <tr>\n",
       "      <th>343124</th>\n",
       "      <td>step_3</td>\n",
       "      <td>2017-04-12 16:52:59</td>\n",
       "    </tr>\n",
       "    <tr>\n",
       "      <th>343131</th>\n",
       "      <td>step_3</td>\n",
       "      <td>2017-04-13 10:00:26</td>\n",
       "    </tr>\n",
       "    <tr>\n",
       "      <th>343137</th>\n",
       "      <td>step_3</td>\n",
       "      <td>2017-03-31 15:14:53</td>\n",
       "    </tr>\n",
       "  </tbody>\n",
       "</table>\n",
       "<p>107256 rows × 2 columns</p>\n",
       "</div>"
      ],
      "text/plain": [
       "       process_step            date_time\n",
       "0            step_3  2017-04-17 15:27:07\n",
       "2            step_3  2017-04-17 15:19:22\n",
       "4            step_3  2017-04-17 15:18:04\n",
       "9            step_3  2017-04-05 13:09:43\n",
       "16           step_3  2017-04-05 12:26:08\n",
       "...             ...                  ...\n",
       "343112       step_3  2017-04-20 12:46:09\n",
       "343118       step_3  2017-04-12 16:56:21\n",
       "343124       step_3  2017-04-12 16:52:59\n",
       "343131       step_3  2017-04-13 10:00:26\n",
       "343137       step_3  2017-03-31 15:14:53\n",
       "\n",
       "[107256 rows x 2 columns]"
      ]
     },
     "execution_count": 43,
     "metadata": {},
     "output_type": "execute_result"
    }
   ],
   "source": [
    "df_concat[df_concat[\"process_step\"] == \"step_3\"][[\"process_step\",\"date_time\"]]"
   ]
  },
  {
   "cell_type": "code",
   "execution_count": null,
   "id": "7975357f",
   "metadata": {},
   "outputs": [],
   "source": []
  },
  {
   "cell_type": "code",
   "execution_count": 20,
   "id": "728342eb",
   "metadata": {},
   "outputs": [
    {
     "name": "stdout",
     "output_type": "stream",
     "text": [
      "<class 'pandas.core.frame.DataFrame'>\n",
      "Index: 686282 entries, 0 to 343140\n",
      "Data columns (total 6 columns):\n",
      " #   Column        Non-Null Count   Dtype \n",
      "---  ------        --------------   ----- \n",
      " 0   client_id     686282 non-null  int64 \n",
      " 1   visitor_id    686282 non-null  object\n",
      " 2   visit_id      686282 non-null  object\n",
      " 3   process_step  686282 non-null  object\n",
      " 4   date_time     686282 non-null  object\n",
      " 5   source        686282 non-null  object\n",
      "dtypes: int64(1), object(5)\n",
      "memory usage: 36.7+ MB\n"
     ]
    }
   ],
   "source": [
    "df_concat.info()"
   ]
  },
  {
   "cell_type": "code",
   "execution_count": 21,
   "id": "a4d8c52a",
   "metadata": {},
   "outputs": [
    {
     "data": {
      "text/plain": [
       "client_id       0\n",
       "visitor_id      0\n",
       "visit_id        0\n",
       "process_step    0\n",
       "date_time       0\n",
       "source          0\n",
       "dtype: int64"
      ]
     },
     "execution_count": 21,
     "metadata": {},
     "output_type": "execute_result"
    }
   ],
   "source": [
    "df_concat.isnull().sum()"
   ]
  },
  {
   "cell_type": "code",
   "execution_count": null,
   "id": "60ff11dc",
   "metadata": {},
   "outputs": [],
   "source": []
  },
  {
   "cell_type": "code",
   "execution_count": 22,
   "id": "afb032d8-a372-4f0b-95da-9837db69a44f",
   "metadata": {},
   "outputs": [],
   "source": [
    "#Dataset 3: Experiment Roster: A list revealing which clients were part of the grand experiment."
   ]
  },
  {
   "cell_type": "code",
   "execution_count": 23,
   "id": "83817d99-5045-4201-b3fc-9593d1f08d18",
   "metadata": {},
   "outputs": [
    {
     "data": {
      "text/html": [
       "<div>\n",
       "<style scoped>\n",
       "    .dataframe tbody tr th:only-of-type {\n",
       "        vertical-align: middle;\n",
       "    }\n",
       "\n",
       "    .dataframe tbody tr th {\n",
       "        vertical-align: top;\n",
       "    }\n",
       "\n",
       "    .dataframe thead th {\n",
       "        text-align: right;\n",
       "    }\n",
       "</style>\n",
       "<table border=\"1\" class=\"dataframe\">\n",
       "  <thead>\n",
       "    <tr style=\"text-align: right;\">\n",
       "      <th></th>\n",
       "      <th>client_id</th>\n",
       "      <th>Variation</th>\n",
       "      <th>source</th>\n",
       "    </tr>\n",
       "  </thead>\n",
       "  <tbody>\n",
       "    <tr>\n",
       "      <th>0</th>\n",
       "      <td>9988021</td>\n",
       "      <td>Test</td>\n",
       "      <td>final_experiment</td>\n",
       "    </tr>\n",
       "    <tr>\n",
       "      <th>1</th>\n",
       "      <td>8320017</td>\n",
       "      <td>Test</td>\n",
       "      <td>final_experiment</td>\n",
       "    </tr>\n",
       "    <tr>\n",
       "      <th>2</th>\n",
       "      <td>4033851</td>\n",
       "      <td>Control</td>\n",
       "      <td>final_experiment</td>\n",
       "    </tr>\n",
       "    <tr>\n",
       "      <th>3</th>\n",
       "      <td>1982004</td>\n",
       "      <td>Test</td>\n",
       "      <td>final_experiment</td>\n",
       "    </tr>\n",
       "    <tr>\n",
       "      <th>4</th>\n",
       "      <td>9294070</td>\n",
       "      <td>Control</td>\n",
       "      <td>final_experiment</td>\n",
       "    </tr>\n",
       "  </tbody>\n",
       "</table>\n",
       "</div>"
      ],
      "text/plain": [
       "   client_id Variation            source\n",
       "0    9988021      Test  final_experiment\n",
       "1    8320017      Test  final_experiment\n",
       "2    4033851   Control  final_experiment\n",
       "3    1982004      Test  final_experiment\n",
       "4    9294070   Control  final_experiment"
      ]
     },
     "execution_count": 23,
     "metadata": {},
     "output_type": "execute_result"
    }
   ],
   "source": [
    "file_path='data/df_final_experiment_clients.txt'\n",
    "df_roster = pd.read_csv(file_path, delimiter=',')\n",
    "df_roster[\"source\"] = \"final_experiment\"\n",
    "df_roster.head()"
   ]
  },
  {
   "cell_type": "code",
   "execution_count": 24,
   "id": "dfc61aac",
   "metadata": {},
   "outputs": [
    {
     "data": {
      "text/html": [
       "<div>\n",
       "<style scoped>\n",
       "    .dataframe tbody tr th:only-of-type {\n",
       "        vertical-align: middle;\n",
       "    }\n",
       "\n",
       "    .dataframe tbody tr th {\n",
       "        vertical-align: top;\n",
       "    }\n",
       "\n",
       "    .dataframe thead th {\n",
       "        text-align: right;\n",
       "    }\n",
       "</style>\n",
       "<table border=\"1\" class=\"dataframe\">\n",
       "  <thead>\n",
       "    <tr style=\"text-align: right;\">\n",
       "      <th></th>\n",
       "      <th>client_id</th>\n",
       "      <th>Variation</th>\n",
       "      <th>source</th>\n",
       "    </tr>\n",
       "  </thead>\n",
       "  <tbody>\n",
       "    <tr>\n",
       "      <th>0</th>\n",
       "      <td>9988021</td>\n",
       "      <td>Test</td>\n",
       "      <td>final_experiment</td>\n",
       "    </tr>\n",
       "    <tr>\n",
       "      <th>1</th>\n",
       "      <td>8320017</td>\n",
       "      <td>Test</td>\n",
       "      <td>final_experiment</td>\n",
       "    </tr>\n",
       "    <tr>\n",
       "      <th>2</th>\n",
       "      <td>4033851</td>\n",
       "      <td>Control</td>\n",
       "      <td>final_experiment</td>\n",
       "    </tr>\n",
       "    <tr>\n",
       "      <th>3</th>\n",
       "      <td>1982004</td>\n",
       "      <td>Test</td>\n",
       "      <td>final_experiment</td>\n",
       "    </tr>\n",
       "    <tr>\n",
       "      <th>4</th>\n",
       "      <td>9294070</td>\n",
       "      <td>Control</td>\n",
       "      <td>final_experiment</td>\n",
       "    </tr>\n",
       "    <tr>\n",
       "      <th>...</th>\n",
       "      <td>...</td>\n",
       "      <td>...</td>\n",
       "      <td>...</td>\n",
       "    </tr>\n",
       "    <tr>\n",
       "      <th>50495</th>\n",
       "      <td>393005</td>\n",
       "      <td>Control</td>\n",
       "      <td>final_experiment</td>\n",
       "    </tr>\n",
       "    <tr>\n",
       "      <th>50496</th>\n",
       "      <td>2908510</td>\n",
       "      <td>Control</td>\n",
       "      <td>final_experiment</td>\n",
       "    </tr>\n",
       "    <tr>\n",
       "      <th>50497</th>\n",
       "      <td>7230446</td>\n",
       "      <td>Test</td>\n",
       "      <td>final_experiment</td>\n",
       "    </tr>\n",
       "    <tr>\n",
       "      <th>50498</th>\n",
       "      <td>5230357</td>\n",
       "      <td>Test</td>\n",
       "      <td>final_experiment</td>\n",
       "    </tr>\n",
       "    <tr>\n",
       "      <th>50499</th>\n",
       "      <td>6334360</td>\n",
       "      <td>Test</td>\n",
       "      <td>final_experiment</td>\n",
       "    </tr>\n",
       "  </tbody>\n",
       "</table>\n",
       "<p>50500 rows × 3 columns</p>\n",
       "</div>"
      ],
      "text/plain": [
       "       client_id Variation            source\n",
       "0        9988021      Test  final_experiment\n",
       "1        8320017      Test  final_experiment\n",
       "2        4033851   Control  final_experiment\n",
       "3        1982004      Test  final_experiment\n",
       "4        9294070   Control  final_experiment\n",
       "...          ...       ...               ...\n",
       "50495     393005   Control  final_experiment\n",
       "50496    2908510   Control  final_experiment\n",
       "50497    7230446      Test  final_experiment\n",
       "50498    5230357      Test  final_experiment\n",
       "50499    6334360      Test  final_experiment\n",
       "\n",
       "[50500 rows x 3 columns]"
      ]
     },
     "execution_count": 24,
     "metadata": {},
     "output_type": "execute_result"
    }
   ],
   "source": [
    "# Drop NaN Values for people who are not joining a control or test Variation\n",
    "df_roster_cleaned = df_roster.dropna(subset=\"Variation\")\n",
    "df_roster_cleaned"
   ]
  },
  {
   "cell_type": "markdown",
   "id": "82622d74-6ae9-4120-b4d1-c6d9c7603fd7",
   "metadata": {},
   "source": [
    "Answer the following questions about demographics:\n",
    "\n",
    "Who are the primary clients using this online process?\n",
    "Are the primary clients younger or older, new or long-standing?\n",
    "Next, carry out a client behaviour analysis to answer any additional relevant questions you think are important."
   ]
  },
  {
   "cell_type": "code",
   "execution_count": 25,
   "id": "be5a74f9-ceb1-4fe6-ba3f-1586a90db425",
   "metadata": {},
   "outputs": [],
   "source": [
    "# Merged Dataframes"
   ]
  },
  {
   "cell_type": "code",
   "execution_count": 26,
   "id": "1ba127dd-c7e5-4e8a-a688-76fa9956c620",
   "metadata": {},
   "outputs": [
    {
     "ename": "NameError",
     "evalue": "name 'df1' is not defined",
     "output_type": "error",
     "traceback": [
      "\u001b[0;31m---------------------------------------------------------------------------\u001b[0m",
      "\u001b[0;31mNameError\u001b[0m                                 Traceback (most recent call last)",
      "Cell \u001b[0;32mIn[26], line 1\u001b[0m\n\u001b[0;32m----> 1\u001b[0m merged_df \u001b[38;5;241m=\u001b[39m pd\u001b[38;5;241m.\u001b[39mmerge(df1, df2, on\u001b[38;5;241m=\u001b[39m\u001b[38;5;124m'\u001b[39m\u001b[38;5;124mclient_id\u001b[39m\u001b[38;5;124m'\u001b[39m, how\u001b[38;5;241m=\u001b[39m\u001b[38;5;124m'\u001b[39m\u001b[38;5;124mouter\u001b[39m\u001b[38;5;124m'\u001b[39m) \n\u001b[1;32m      2\u001b[0m merged_df \u001b[38;5;241m=\u001b[39m pd\u001b[38;5;241m.\u001b[39mmerge(merged_df, df3, on\u001b[38;5;241m=\u001b[39m\u001b[38;5;124m'\u001b[39m\u001b[38;5;124mclient_id\u001b[39m\u001b[38;5;124m'\u001b[39m, how\u001b[38;5;241m=\u001b[39m\u001b[38;5;124m'\u001b[39m\u001b[38;5;124mouter\u001b[39m\u001b[38;5;124m'\u001b[39m) \n\u001b[1;32m      4\u001b[0m merged_df\u001b[38;5;241m.\u001b[39mhead()\n",
      "\u001b[0;31mNameError\u001b[0m: name 'df1' is not defined"
     ]
    }
   ],
   "source": [
    "merged_df = pd.merge(df1, df2, on='client_id', how='outer') \n",
    "merged_df = pd.merge(merged_df, df3, on='client_id', how='outer') \n",
    "\n",
    "merged_df.head()"
   ]
  },
  {
   "cell_type": "code",
   "execution_count": 32,
   "id": "f84aeb88-bfa8-4d41-b247-c1044e99aa7d",
   "metadata": {},
   "outputs": [],
   "source": [
    "df= merged_df"
   ]
  },
  {
   "cell_type": "code",
   "execution_count": 33,
   "id": "d01225fe-faef-4722-8551-175ea0df6585",
   "metadata": {},
   "outputs": [
    {
     "data": {
      "text/plain": [
       "clnt_age\n",
       "58.5    6432\n",
       "57.5    6115\n",
       "52.5    6061\n",
       "59.5    6037\n",
       "55.5    5913\n",
       "        ... \n",
       "96.0      10\n",
       "14.0      10\n",
       "13.5       9\n",
       "95.5       6\n",
       "94.5       5\n",
       "Name: count, Length: 165, dtype: int64"
      ]
     },
     "execution_count": 33,
     "metadata": {},
     "output_type": "execute_result"
    }
   ],
   "source": [
    "df['clnt_age'].value_counts()"
   ]
  },
  {
   "cell_type": "code",
   "execution_count": 34,
   "id": "5bb69d84-2cc0-46d6-9a27-b2d1f4b53ac8",
   "metadata": {},
   "outputs": [],
   "source": [
    "#Who are the primary clients using this online process? late 50s"
   ]
  },
  {
   "cell_type": "code",
   "execution_count": 35,
   "id": "bf45e7cc-9684-4089-90b3-653ced796185",
   "metadata": {},
   "outputs": [
    {
     "data": {
      "text/plain": [
       "<Axes: xlabel='clnt_age', ylabel='Count'>"
      ]
     },
     "execution_count": 35,
     "metadata": {},
     "output_type": "execute_result"
    },
    {
     "data": {
      "image/png": "[encoded data removed]",
      "text/plain": [
       "<Figure size 640x480 with 1 Axes>"
      ]
     },
     "metadata": {},
     "output_type": "display_data"
    }
   ],
   "source": [
    "sns.histplot(data=df, x='clnt_age')"
   ]
  },
  {
   "cell_type": "code",
   "execution_count": 36,
   "id": "b5336baf-711b-4d72-ab29-870fe142e3a9",
   "metadata": {},
   "outputs": [],
   "source": [
    "# Are the primary clients younger or older, new or long-standing? \n",
    "#clnt_tenure_yr: Represents how long the client has been with Vanguard, measured in years.\n",
    "# clnt_tenure_mnth: Further breaks down the client’s tenure with Vanguard in months.\n",
    "#num_accts: Denotes the number of accounts the client holds with Vanguard."
   ]
  },
  {
   "cell_type": "code",
   "execution_count": 37,
   "id": "aca99d80-d479-4712-8cf3-49c7695433a4",
   "metadata": {},
   "outputs": [],
   "source": [
    "# CLEANING "
   ]
  },
  {
   "cell_type": "code",
   "execution_count": 38,
   "id": "686d91d8-b3d7-4ffd-a371-318d1472e084",
   "metadata": {},
   "outputs": [
    {
     "data": {
      "text/plain": [
       "Index(['client_id', 'clnt_tenure_yr', 'clnt_tenure_mnth', 'clnt_age', 'gendr',\n",
       "       'num_accts', 'bal', 'calls_6_mnth', 'logons_6_mnth', 'visitor_id',\n",
       "       'visit_id', 'process_step', 'date_time', 'Variation'],\n",
       "      dtype='object')"
      ]
     },
     "execution_count": 38,
     "metadata": {},
     "output_type": "execute_result"
    }
   ],
   "source": [
    "df.columns"
   ]
  },
  {
   "cell_type": "code",
   "execution_count": 39,
   "id": "aa7e6278-8cc3-4653-85cd-fa1ecf654ef4",
   "metadata": {},
   "outputs": [
    {
     "name": "stdout",
     "output_type": "stream",
     "text": [
      "client_id                0\n",
      "clnt_tenure_yr      305689\n",
      "clnt_tenure_mnth    305689\n",
      "clnt_age            305701\n",
      "gendr               305689\n",
      "num_accts           305689\n",
      "bal                 305689\n",
      "calls_6_mnth        305689\n",
      "logons_6_mnth       305689\n",
      "visitor_id               0\n",
      "visit_id                 0\n",
      "process_step             0\n",
      "date_time                0\n",
      "Variation           434096\n",
      "dtype: int64\n"
     ]
    }
   ],
   "source": [
    "null_counts = df.isnull().sum()\n",
    "print(null_counts)"
   ]
  },
  {
   "cell_type": "code",
   "execution_count": 40,
   "id": "571602e5-4544-41f7-b16a-b6a6744b8e7a",
   "metadata": {},
   "outputs": [
    {
     "name": "stdout",
     "output_type": "stream",
     "text": [
      "305689\n"
     ]
    },
    {
     "name": "stderr",
     "output_type": "stream",
     "text": [
      "/var/folders/z2/8yvwb6_51rd1bxl1j1s0xpm40000gp/T/ipykernel_1770/3563211911.py:3: FutureWarning: A value is trying to be set on a copy of a DataFrame or Series through chained assignment using an inplace method.\n",
      "The behavior will change in pandas 3.0. This inplace method will never work because the intermediate object on which we are setting values always behaves as a copy.\n",
      "\n",
      "For example, when doing 'df[col].method(value, inplace=True)', try using 'df.method({col: value}, inplace=True)' or df[col] = df[col].method(value) instead, to perform the operation inplace on the original object.\n",
      "\n",
      "\n",
      "  df['clnt_age'] = df['clnt_age'].fillna(df['clnt_age'].median(),inplace=True)\n"
     ]
    }
   ],
   "source": [
    "# replace nullvalues\n",
    "\n",
    "df['clnt_age'] = df['clnt_age'].fillna(df['clnt_age'].median(),inplace=True)\n",
    "print(df['gendr'].isnull().sum())"
   ]
  },
  {
   "cell_type": "code",
   "execution_count": 41,
   "id": "d95e8669-c31c-4b63-9146-95e64d8100ef",
   "metadata": {},
   "outputs": [],
   "source": [
    "#df['clnt_tenure_yr'] = df['clnt_tenure_yr'].fillna(df['clnt_tenure_yr'].median(),inplace=True)\n",
    "#df['bal'] = df['bal'].fillna(df['bal'].median(),inplace=True"
   ]
  },
  {
   "cell_type": "code",
   "execution_count": 42,
   "id": "0b36a2dc-1f71-4a97-a95c-5ec5d4937e36",
   "metadata": {},
   "outputs": [
    {
     "name": "stdout",
     "output_type": "stream",
     "text": [
      "client_id                0\n",
      "clnt_tenure_yr      305689\n",
      "clnt_tenure_mnth    305689\n",
      "clnt_age            755405\n",
      "gendr               305689\n",
      "num_accts           305689\n",
      "bal                 305689\n",
      "calls_6_mnth        305689\n",
      "logons_6_mnth       305689\n",
      "visitor_id               0\n",
      "visit_id                 0\n",
      "process_step             0\n",
      "date_time                0\n",
      "Variation           434096\n",
      "dtype: int64\n"
     ]
    }
   ],
   "source": [
    "null_counts = df.isnull().sum()\n",
    "print(null_counts)"
   ]
  },
  {
   "cell_type": "code",
   "execution_count": null,
   "id": "48f414d4-d88d-4f7a-afe4-31e62e274fce",
   "metadata": {},
   "outputs": [],
   "source": []
  }
 ],
 "metadata": {
  "kernelspec": {
   "display_name": "Python 3 (ipykernel)",
   "language": "python",
   "name": "python3"
  },
  "language_info": {
   "codemirror_mode": {
    "name": "ipython",
    "version": 3
   },
   "file_extension": ".py",
   "mimetype": "text/x-python",
   "name": "python",
   "nbconvert_exporter": "python",
   "pygments_lexer": "ipython3",
   "version": "3.12.4"
  }
 },
 "nbformat": 4,
 "nbformat_minor": 5
}
